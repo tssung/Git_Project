{
 "cells": [
  {
   "cell_type": "code",
   "execution_count": 1,
   "metadata": {},
   "outputs": [
    {
     "name": "stdout",
     "output_type": "stream",
     "text": [
      "   Supplier Name     Cost\n",
      "0     Supplier X  $500.00\n",
      "1     Supplier X  $500.00\n",
      "2     Supplier X  $750.00\n",
      "3     Supplier X  $750.00\n",
      "4     Supplier Y  $250.00\n",
      "5     Supplier Y  $250.00\n",
      "6     Supplier Y  $125.00\n",
      "7     Supplier Y  $125.00\n",
      "8     Supplier Z  $615.00\n",
      "9     Supplier Z  $615.00\n",
      "10    Supplier Z  $615.00\n",
      "11    Supplier Z  $615.00\n"
     ]
    }
   ],
   "source": [
    "# pandas_column_by_index.py\n",
    "\n",
    "import pandas as pd\n",
    "import sys\n",
    "\n",
    "# input_file = sys.argv[1]\n",
    "# output_file = sys.argv[2]\n",
    "\n",
    "input_file = 'supplier_data.csv'\n",
    "output_file = 'pandas_column_by_index_output.txt'\n",
    "\n",
    "# 將 input_file 內容讀入 data_frame\n",
    "data_frame = pd.read_csv(input_file)\n",
    "\n",
    "data_frame_column_by_index = data_frame.iloc[:, [0,3]]\n",
    "\n",
    "#debug\n",
    "print(data_frame_column_by_index)\n",
    "\n",
    "# write to file\n",
    "data_frame_column_by_index.to_csv(output_file, index=False)\n",
    "\n"
   ]
  },
  {
   "cell_type": "code",
   "execution_count": null,
   "metadata": {},
   "outputs": [],
   "source": []
  }
 ],
 "metadata": {
  "kernelspec": {
   "display_name": "Python 3",
   "language": "python",
   "name": "python3"
  },
  "language_info": {
   "codemirror_mode": {
    "name": "ipython",
    "version": 3
   },
   "file_extension": ".py",
   "mimetype": "text/x-python",
   "name": "python",
   "nbconvert_exporter": "python",
   "pygments_lexer": "ipython3",
   "version": "3.6.3"
  }
 },
 "nbformat": 4,
 "nbformat_minor": 2
}
