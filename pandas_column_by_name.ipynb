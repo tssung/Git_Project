{
 "cells": [
  {
   "cell_type": "code",
   "execution_count": 3,
   "metadata": {},
   "outputs": [
    {
     "name": "stdout",
     "output_type": "stream",
     "text": [
      "   Invoice Number Purchase Date\n",
      "0        001-1001       1/20/14\n",
      "1        001-1001       1/20/14\n",
      "2        001-1001       1/20/14\n",
      "3        001-1001       1/20/14\n",
      "4         50-9501       1/30/14\n",
      "5         50-9501       1/30/14\n",
      "6         50-9505        2/3/14\n",
      "7         50-9505        2/3/14\n",
      "8        920-4803        2/3/14\n",
      "9        920-4804       2/10/14\n",
      "10       920-4805       2/17/14\n",
      "11       920-4806       2/24/14\n"
     ]
    }
   ],
   "source": [
    "# pandas_column_by_name.py\n",
    "\n",
    "import pandas as pd\n",
    "import sys\n",
    "\n",
    "# input_file = sys.argv[1]\n",
    "# output_file = sys.argv[2]\n",
    "\n",
    "input_file = 'supplier_data.csv'\n",
    "output_file = 'pandas_column_by_name_output.txt'\n",
    "\n",
    "# 將 input_file 內容讀入 data_frame\n",
    "data_frame = pd.read_csv(input_file)\n",
    "\n",
    "data_frame_column_by_name = data_frame.loc[:, ['Invoice Number','Purchase Date']]\n",
    "\n",
    "#debug\n",
    "print(data_frame_column_by_name)\n",
    "\n",
    "# write to file\n",
    "data_frame_column_by_name.to_csv(output_file, index=False)\n",
    "\n"
   ]
  },
  {
   "cell_type": "code",
   "execution_count": null,
   "metadata": {},
   "outputs": [],
   "source": []
  }
 ],
 "metadata": {
  "kernelspec": {
   "display_name": "Python 3",
   "language": "python",
   "name": "python3"
  },
  "language_info": {
   "codemirror_mode": {
    "name": "ipython",
    "version": 3
   },
   "file_extension": ".py",
   "mimetype": "text/x-python",
   "name": "python",
   "nbconvert_exporter": "python",
   "pygments_lexer": "ipython3",
   "version": "3.6.3"
  }
 },
 "nbformat": 4,
 "nbformat_minor": 2
}
