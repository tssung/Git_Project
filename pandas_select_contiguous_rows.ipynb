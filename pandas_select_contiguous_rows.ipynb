{
 "cells": [
  {
   "cell_type": "code",
   "execution_count": 11,
   "metadata": {},
   "outputs": [
    {
     "name": "stdout",
     "output_type": "stream",
     "text": [
      "                0               1            2         3              4\n",
      "3   Supplier Name  Invoice Number  Part Number      Cost  Purchase Date\n",
      "4      Supplier X        001-1001         2341  $500.00       1/20/2014\n",
      "5      Supplier X        001-1001         2341  $500.00       1/20/2014\n",
      "6      Supplier X        001-1001         5467  $750.00       1/20/2014\n",
      "7      Supplier X        001-1001         5467  $750.00       1/20/2014\n",
      "8      Supplier Y         50-9501         7009  $250.00       1/30/2014\n",
      "9      Supplier Y         50-9501         7009  $250.00       1/30/2014\n",
      "10     Supplier Y         50-9505         6650  $125.00        2/3/2014\n",
      "11     Supplier Y         50-9505         6650  $125.00        2/3/2014\n",
      "12     Supplier Z        920-4803         3321  $615.00        2/3/2014\n",
      "13     Supplier Z        920-4804         3321  $615.00       2/10/2014\n",
      "14     Supplier Z        920-4805         3321  $615.00       2/17/2014\n",
      "15     Supplier Z        920-4806         3321  $615.00       2/24/2014\n"
     ]
    }
   ],
   "source": [
    "# pandas_select_contiguous_rows.py\n",
    "\n",
    "import pandas as pd\n",
    "import sys\n",
    "\n",
    "# input_file = sys.argv[1]\n",
    "# output_file = sys.argv[2]\n",
    "\n",
    "input_file = 'supplier_data_unnecessary_header_footer.csv'\n",
    "output_file = 'pandas_select_contiguous_rows_output.txt'\n",
    "\n",
    "# 將 input_file 內容讀入 data_frame\n",
    "data_frame = pd.read_csv(input_file, header=None)\n",
    "# debug \n",
    "# print(data_frame)\n",
    "\n",
    "data_frame = data_frame.drop([0,1,2,16,17,18])  # row 0,1,2,16,17,18 will be removed\n",
    "# debug \n",
    "print(data_frame)\n",
    "\n",
    "data_frame.columns = data_frame.iloc[0]\n",
    "# debug \n",
    "# print(data_frame)\n",
    "\n",
    "data_frame = data_frame.reindex(data_frame.index.drop(3))\n",
    "# debug \n",
    "# print(data_frame)\n",
    "\n",
    "# write to file\n",
    "data_frame.to_csv(output_file, index=False)\n",
    "\n"
   ]
  },
  {
   "cell_type": "code",
   "execution_count": null,
   "metadata": {},
   "outputs": [],
   "source": []
  }
 ],
 "metadata": {
  "kernelspec": {
   "display_name": "Python 3",
   "language": "python",
   "name": "python3"
  },
  "language_info": {
   "codemirror_mode": {
    "name": "ipython",
    "version": 3
   },
   "file_extension": ".py",
   "mimetype": "text/x-python",
   "name": "python",
   "nbconvert_exporter": "python",
   "pygments_lexer": "ipython3",
   "version": "3.6.3"
  }
 },
 "nbformat": 4,
 "nbformat_minor": 2
}
