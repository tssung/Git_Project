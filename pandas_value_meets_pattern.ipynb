{
 "cells": [
  {
   "cell_type": "code",
   "execution_count": 2,
   "metadata": {},
   "outputs": [
    {
     "name": "stdout",
     "output_type": "stream",
     "text": [
      "  Supplier Name Invoice Number  Part Number     Cost Purchase Date\n",
      "0    Supplier X       001-1001         2341  $500.00       1/20/14\n",
      "1    Supplier X       001-1001         2341  $500.00       1/20/14\n",
      "2    Supplier X       001-1001         5467  $750.00       1/20/14\n",
      "3    Supplier X       001-1001         5467  $750.00       1/20/14\n"
     ]
    }
   ],
   "source": [
    "# pandas_value_meets_pattern.py\n",
    "\n",
    "import pandas as pd\n",
    "import sys\n",
    "\n",
    "# input_file = sys.argv[1]\n",
    "# output_file = sys.argv[2]\n",
    "\n",
    "input_file = 'supplier_data.csv'\n",
    "output_file = 'pandas_value_meets_pattern_output.txt'\n",
    "\n",
    "# 將 input_file 內容讀入 data_frame\n",
    "data_frame = pd.read_csv(input_file)\n",
    "\n",
    "data_frame_value_matches_pattern = data_frame.loc[data_frame['Invoice Number'].str.startswith('001-'), :]\n",
    "\n",
    "#debug\n",
    "print(data_frame_value_matches_pattern)\n",
    "\n",
    "# write to file\n",
    "data_frame_value_matches_pattern.to_csv(output_file, index=False)\n",
    "\n"
   ]
  },
  {
   "cell_type": "code",
   "execution_count": null,
   "metadata": {},
   "outputs": [],
   "source": []
  }
 ],
 "metadata": {
  "kernelspec": {
   "display_name": "Python 3",
   "language": "python",
   "name": "python3"
  },
  "language_info": {
   "codemirror_mode": {
    "name": "ipython",
    "version": 3
   },
   "file_extension": ".py",
   "mimetype": "text/x-python",
   "name": "python",
   "nbconvert_exporter": "python",
   "pygments_lexer": "ipython3",
   "version": "3.6.3"
  }
 },
 "nbformat": 4,
 "nbformat_minor": 2
}
