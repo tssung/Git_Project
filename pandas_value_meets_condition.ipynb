{
 "cells": [
  {
   "cell_type": "code",
   "execution_count": 12,
   "metadata": {
    "scrolled": true
   },
   "outputs": [
    {
     "name": "stdout",
     "output_type": "stream",
     "text": [
      "0     500.0\n",
      "1     500.0\n",
      "2     750.0\n",
      "3     750.0\n",
      "4     250.0\n",
      "5     250.0\n",
      "6     125.0\n",
      "7     125.0\n",
      "8     615.0\n",
      "9     615.0\n",
      "10    615.0\n",
      "11    615.0\n",
      "Name: Cost, dtype: float64\n",
      "   Supplier Name Invoice Number  Part Number   Cost Purchase Date\n",
      "2     Supplier X       001-1001         5467  750.0       1/20/14\n",
      "3     Supplier X       001-1001         5467  750.0       1/20/14\n",
      "8     Supplier Z       920-4803         3321  615.0        2/3/14\n",
      "9     Supplier Z       920-4804         3321  615.0       2/10/14\n",
      "10    Supplier Z       920-4805         3321  615.0       2/17/14\n",
      "11    Supplier Z       920-4806         3321  615.0       2/24/14\n",
      "<class 'pandas.core.frame.DataFrame'>\n"
     ]
    }
   ],
   "source": [
    "# pandas_value_meets_condition.py\n",
    "\n",
    "import pandas as pd\n",
    "import sys\n",
    "\n",
    "# input_file = sys.argv[1]\n",
    "# output_file = sys.argv[2]\n",
    "\n",
    "input_file = 'supplier_data.csv'\n",
    "output_file = 'pandas_output.txt'\n",
    "\n",
    "# 將 input_file 內容讀入 data_frame\n",
    "data_frame = pd.read_csv(input_file)\n",
    "\n",
    "data_frame['Cost'] = data_frame['Cost'].str.strip('$').astype(float)\n",
    "# debug print(data_frame['Cost'])\n",
    "print(data_frame['Cost'])\n",
    "data_frame_value_meets_condition = data_frame.loc[(data_frame['Supplier Name'].str.contains('Supplier Z')) | (data_frame['Cost'] > 600.0), :]\n",
    "# debug print(data_frame_value_meets_condition)\n",
    "print(data_frame_value_meets_condition)\n",
    "print(type(data_frame_value_meets_condition))\n",
    "\n",
    "# write to file\n",
    "data_frame_value_meets_condition.to_csv(output_file, index=False)\n",
    "\n"
   ]
  },
  {
   "cell_type": "code",
   "execution_count": null,
   "metadata": {},
   "outputs": [],
   "source": []
  }
 ],
 "metadata": {
  "kernelspec": {
   "display_name": "Python 3",
   "language": "python",
   "name": "python3"
  },
  "language_info": {
   "codemirror_mode": {
    "name": "ipython",
    "version": 3
   },
   "file_extension": ".py",
   "mimetype": "text/x-python",
   "name": "python",
   "nbconvert_exporter": "python",
   "pygments_lexer": "ipython3",
   "version": "3.6.3"
  }
 },
 "nbformat": 4,
 "nbformat_minor": 2
}
