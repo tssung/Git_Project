{
 "cells": [
  {
   "cell_type": "code",
   "execution_count": 1,
   "metadata": {
    "scrolled": true
   },
   "outputs": [
    {
     "name": "stdout",
     "output_type": "stream",
     "text": [
      "  Supplier Name Invoice Number  Part Number     Cost Purchase Date\n",
      "0    Supplier X       001-1001         2341  $500.00       1/20/14\n",
      "1    Supplier X       001-1001         2341  $500.00       1/20/14\n",
      "2    Supplier X       001-1001         5467  $750.00       1/20/14\n",
      "3    Supplier X       001-1001         5467  $750.00       1/20/14\n",
      "4    Supplier Y        50-9501         7009  $250.00       1/30/14\n",
      "5    Supplier Y        50-9501         7009  $250.00       1/30/14\n"
     ]
    }
   ],
   "source": [
    "# pandas_value_in_set.py\n",
    "\n",
    "import pandas as pd\n",
    "import sys\n",
    "\n",
    "# input_file = sys.argv[1]\n",
    "# output_file = sys.argv[2]\n",
    "\n",
    "input_file = 'supplier_data.csv'\n",
    "output_file = 'pandas_value_in_set_output.txt'\n",
    "\n",
    "# 將 input_file 內容讀入 data_frame\n",
    "data_frame = pd.read_csv(input_file)\n",
    "\n",
    "# 關注 Purchase Date = ('1/20/14','1/30/14')\n",
    "important_dates=['1/20/14','1/30/14']\n",
    "\n",
    "# 符合 important_dates資料\n",
    "data_frame_value_in_set = data_frame.loc[data_frame['Purchase Date'].isin(important_dates), :]\n",
    "\n",
    "# debug\n",
    "print(data_frame_value_in_set)\n",
    "\n",
    "# write to file\n",
    "data_frame_value_in_set.to_csv(output_file, index=False)\n",
    "\n"
   ]
  },
  {
   "cell_type": "code",
   "execution_count": null,
   "metadata": {},
   "outputs": [],
   "source": []
  }
 ],
 "metadata": {
  "kernelspec": {
   "display_name": "Python 3",
   "language": "python",
   "name": "python3"
  },
  "language_info": {
   "codemirror_mode": {
    "name": "ipython",
    "version": 3
   },
   "file_extension": ".py",
   "mimetype": "text/x-python",
   "name": "python",
   "nbconvert_exporter": "python",
   "pygments_lexer": "ipython3",
   "version": "3.6.3"
  }
 },
 "nbformat": 4,
 "nbformat_minor": 2
}
