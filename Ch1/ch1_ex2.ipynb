{
 "cells": [
  {
   "cell_type": "code",
   "execution_count": 17,
   "metadata": {},
   "outputs": [
    {
     "name": "stdout",
     "output_type": "stream",
     "text": [
      "AAis not existed in empty_dict, will be added\n",
      "BBis not existed in empty_dict, will be added\n",
      "CCis not existed in empty_dict, will be added\n",
      "AA is existed in empty_dict, will be updated\n",
      "AA : 999\n",
      "BB : ['4', 'this is new type', 100]\n",
      "CC : 300\n"
     ]
    }
   ],
   "source": [
    "# ch1_ex2\n",
    "\n",
    "'''\n",
    "p56\n",
    "建立兩個長度相同的串列\n",
    "第一個串列存放 key\n",
    "第二個串列存放 value\n",
    "將兩個串列的資料依照index位置存放到一個dictionary\n",
    "'''\n",
    "\n",
    "list_keys = ['AA', 'BB', 'CC', 'AA']\n",
    "list_values = ['100', ['4', 'this is new type', 100], '300', '999']\n",
    "empty_dict={}\n",
    "\n",
    "for index_value in range(len(list_keys)):\n",
    "    if list_keys[index_value] not in empty_dict:\n",
    "        print(list_keys[index_value] + 'is not existed in empty_dict, will be added')\n",
    "        empty_dict[list_keys[index_value]] = list_values[index_value]\n",
    "    else:\n",
    "        print(list_keys[index_value] + ' is existed in empty_dict, will be updated')\n",
    "        empty_dict.update({list_keys[index_value]: list_values[index_value]})\n",
    "        # 亦可\n",
    "        # empty_dict[list_keys[index_value]] = list_values[index_value]\n",
    "        \n",
    "# debug empty_dict\n",
    "for key, value in empty_dict.items():\n",
    "    print('{0!s} : {1}'.format(key,value))\n"
   ]
  },
  {
   "cell_type": "code",
   "execution_count": null,
   "metadata": {},
   "outputs": [],
   "source": []
  },
  {
   "cell_type": "code",
   "execution_count": null,
   "metadata": {},
   "outputs": [],
   "source": []
  }
 ],
 "metadata": {
  "kernelspec": {
   "display_name": "Python 3",
   "language": "python",
   "name": "python3"
  },
  "language_info": {
   "codemirror_mode": {
    "name": "ipython",
    "version": 3
   },
   "file_extension": ".py",
   "mimetype": "text/x-python",
   "name": "python",
   "nbconvert_exporter": "python",
   "pygments_lexer": "ipython3",
   "version": "3.6.3"
  }
 },
 "nbformat": 4,
 "nbformat_minor": 2
}
