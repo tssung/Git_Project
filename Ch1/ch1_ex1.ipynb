{
 "cells": [
  {
   "cell_type": "code",
   "execution_count": 4,
   "metadata": {},
   "outputs": [
    {
     "name": "stdout",
     "output_type": "stream",
     "text": [
      "index=0, value=a\n",
      "index=1, value=b\n",
      "index=2, value=c\n",
      "index=3, value=1\n",
      "index=4, value=2\n",
      "index=5, value=3\n",
      "index=6, value=4\n",
      "index=7, value=5\n",
      "index=8, value=@\n",
      "index=9, value=#\n",
      "index=10, value=$\n",
      "index=11, value=%\n",
      "index=12, value=&\n",
      "index=13, value=*\n"
     ]
    }
   ],
   "source": [
    "# ch1_ex1.py\n",
    "# ch1 excrise 1\n",
    "\n",
    "\n",
    "list_a = ['a', 'b', 'c']\n",
    "list_b = ['1', '2', '3', '4', '5']\n",
    "list_c = ['@', '#', '$', '%', '&', '*']\n",
    "\n",
    "list_all=[]\n",
    "list_all = list_a + list_b + list_c\n",
    "\n",
    "# debug list_all\n",
    "# print(list_all)\n",
    "\n",
    "# 印出串列 list_all 所有元素 index 及 對應的 value \n",
    "for index_value in range(len(list_all)):\n",
    "    print(\"index=\"+str(index_value) + \", value=\" + list_all[index_value])\n"
   ]
  },
  {
   "cell_type": "code",
   "execution_count": null,
   "metadata": {},
   "outputs": [],
   "source": []
  }
 ],
 "metadata": {
  "kernelspec": {
   "display_name": "Python 3",
   "language": "python",
   "name": "python3"
  },
  "language_info": {
   "codemirror_mode": {
    "name": "ipython",
    "version": 3
   },
   "file_extension": ".py",
   "mimetype": "text/x-python",
   "name": "python",
   "nbconvert_exporter": "python",
   "pygments_lexer": "ipython3",
   "version": "3.6.3"
  }
 },
 "nbformat": 4,
 "nbformat_minor": 2
}
