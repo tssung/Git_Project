{
 "cells": [
  {
   "cell_type": "code",
   "execution_count": 3,
   "metadata": {},
   "outputs": [
    {
     "name": "stdout",
     "output_type": "stream",
     "text": [
      "cow,pig,horse\n",
      "dog,cat,gold fish\n",
      "lion,elephant,gorilla\n",
      "\n"
     ]
    }
   ],
   "source": [
    "# ch1_ex3\n",
    "\n",
    "list_of_lists =[['cow', 'pig', 'horse'], ['dog', 'cat', 'gold fish'], ['lion', 'elephant', 'gorilla']]\n",
    "\n",
    "output = ''\n",
    "for animal_list in list_of_lists:\n",
    "    max_index = len(animal_list)\n",
    "    for index in range(len(animal_list)):\n",
    "        if index < (max_index-1):\n",
    "            output += str(animal_list[index]) + ','\n",
    "        else:\n",
    "            output += str(animal_list[index]) + '\\n'\n",
    "\n",
    "print(output)"
   ]
  },
  {
   "cell_type": "code",
   "execution_count": null,
   "metadata": {},
   "outputs": [],
   "source": []
  }
 ],
 "metadata": {
  "kernelspec": {
   "display_name": "Python 3",
   "language": "python",
   "name": "python3"
  },
  "language_info": {
   "codemirror_mode": {
    "name": "ipython",
    "version": 3
   },
   "file_extension": ".py",
   "mimetype": "text/x-python",
   "name": "python",
   "nbconvert_exporter": "python",
   "pygments_lexer": "ipython3",
   "version": "3.6.3"
  }
 },
 "nbformat": 4,
 "nbformat_minor": 2
}
